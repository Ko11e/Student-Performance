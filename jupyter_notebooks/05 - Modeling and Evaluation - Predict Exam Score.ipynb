{
  "cells": [
    {
      "cell_type": "markdown",
      "metadata": {
        "id": "0aStgWSO0E0E"
      },
      "source": [
        "# **Prediction with Regression**"
      ]
    },
    {
      "cell_type": "markdown",
      "metadata": {
        "id": "1eLEkw5O0ECa"
      },
      "source": [
        "## Objectives\n",
        "\n",
        "* Fit and evaluate a regression model to predict Students Exam Score.\n",
        "\n",
        "## Inputs\n",
        "\n",
        "* outputs/datasets/collection/StudentPerformance.csv\n",
        "* Instructions on which variables to use for data cleaning and feature engineering. They are found in their respective notebooks.\n",
        "\n",
        "## Outputs\n",
        "\n",
        "* Train set (features and target)\n",
        "* Test set (features and target)\n",
        "* ML pipeline to predict Exam Score\n",
        "* labels map\n",
        "* Feature Importance Plot\n"
      ]
    },
    {
      "cell_type": "markdown",
      "metadata": {
        "id": "9uWZXH9LwoQg"
      },
      "source": [
        "---"
      ]
    },
    {
      "cell_type": "markdown",
      "metadata": {
        "id": "cqP-UeN-z3i2"
      },
      "source": [
        "# Change working directory"
      ]
    },
    {
      "cell_type": "markdown",
      "metadata": {},
      "source": [
        "* We are assuming you will store the notebooks in a subfolder, therefore when running the notebook in the editor, you will need to change the working directory"
      ]
    },
    {
      "cell_type": "markdown",
      "metadata": {
        "id": "aOGIGS-uz3i2"
      },
      "source": [
        "We need to change the working directory from its current folder to its parent folder\n",
        "* We access the current directory with os.getcwd()"
      ]
    },
    {
      "cell_type": "code",
      "execution_count": 2,
      "metadata": {
        "id": "wZfF_j-Bz3i4",
        "outputId": "66943449-1436-4c3d-85c7-b85f9f78349b"
      },
      "outputs": [
        {
          "data": {
            "text/plain": [
              "'/workspace/Student-Performance/jupyter_notebooks'"
            ]
          },
          "execution_count": 2,
          "metadata": {},
          "output_type": "execute_result"
        }
      ],
      "source": [
        "import os\n",
        "current_dir = os.getcwd()\n",
        "current_dir"
      ]
    },
    {
      "cell_type": "markdown",
      "metadata": {
        "id": "9MWW8E7lz3i7"
      },
      "source": [
        "We want to make the parent of the current directory the new current directory\n",
        "* os.path.dirname() gets the parent directory\n",
        "* os.chir() defines the new current directory"
      ]
    },
    {
      "cell_type": "code",
      "execution_count": 3,
      "metadata": {
        "id": "TwHsQRWjz3i9",
        "outputId": "86849db3-cd2f-4cc5-ebb8-2d0caafa1a2c"
      },
      "outputs": [
        {
          "name": "stdout",
          "output_type": "stream",
          "text": [
            "You set a new current directory\n"
          ]
        }
      ],
      "source": [
        "os.chdir(os.path.dirname(current_dir))\n",
        "print(\"You set a new current directory\")"
      ]
    },
    {
      "cell_type": "markdown",
      "metadata": {
        "id": "M_xPk_Ijz3i-"
      },
      "source": [
        "Confirm the new current directory"
      ]
    },
    {
      "cell_type": "code",
      "execution_count": 4,
      "metadata": {
        "id": "vz3S-_kjz3jA",
        "outputId": "00b79ae4-75d0-4a96-d193-ac9ef9847ea2"
      },
      "outputs": [
        {
          "data": {
            "text/plain": [
              "'/workspace/Student-Performance'"
            ]
          },
          "execution_count": 4,
          "metadata": {},
          "output_type": "execute_result"
        }
      ],
      "source": [
        "current_dir = os.getcwd()\n",
        "current_dir"
      ]
    },
    {
      "cell_type": "markdown",
      "metadata": {},
      "source": [
        "-----"
      ]
    },
    {
      "cell_type": "markdown",
      "metadata": {
        "id": "-mavJ8DibrcQ"
      },
      "source": [
        "# Load data"
      ]
    },
    {
      "cell_type": "code",
      "execution_count": 5,
      "metadata": {},
      "outputs": [
        {
          "name": "stdout",
          "output_type": "stream",
          "text": [
            "(6607, 20)\n"
          ]
        },
        {
          "data": {
            "text/html": [
              "<div>\n",
              "<style scoped>\n",
              "    .dataframe tbody tr th:only-of-type {\n",
              "        vertical-align: middle;\n",
              "    }\n",
              "\n",
              "    .dataframe tbody tr th {\n",
              "        vertical-align: top;\n",
              "    }\n",
              "\n",
              "    .dataframe thead th {\n",
              "        text-align: right;\n",
              "    }\n",
              "</style>\n",
              "<table border=\"1\" class=\"dataframe\">\n",
              "  <thead>\n",
              "    <tr style=\"text-align: right;\">\n",
              "      <th></th>\n",
              "      <th>Hours_Studied</th>\n",
              "      <th>Attendance</th>\n",
              "      <th>Parental_Involvement</th>\n",
              "      <th>Access_to_Resources</th>\n",
              "      <th>Extracurricular_Activities</th>\n",
              "      <th>Sleep_Hours</th>\n",
              "      <th>Previous_Scores</th>\n",
              "      <th>Motivation_Level</th>\n",
              "      <th>Internet_Access</th>\n",
              "      <th>Tutoring_Sessions</th>\n",
              "      <th>Family_Income</th>\n",
              "      <th>Teacher_Quality</th>\n",
              "      <th>School_Type</th>\n",
              "      <th>Peer_Influence</th>\n",
              "      <th>Physical_Activity</th>\n",
              "      <th>Learning_Disabilities</th>\n",
              "      <th>Parental_Education_Level</th>\n",
              "      <th>Distance_from_Home</th>\n",
              "      <th>Gender</th>\n",
              "      <th>Exam_Score</th>\n",
              "    </tr>\n",
              "  </thead>\n",
              "  <tbody>\n",
              "    <tr>\n",
              "      <th>0</th>\n",
              "      <td>23</td>\n",
              "      <td>84</td>\n",
              "      <td>Low</td>\n",
              "      <td>High</td>\n",
              "      <td>No</td>\n",
              "      <td>7</td>\n",
              "      <td>73</td>\n",
              "      <td>Low</td>\n",
              "      <td>Yes</td>\n",
              "      <td>0</td>\n",
              "      <td>Low</td>\n",
              "      <td>Medium</td>\n",
              "      <td>Public</td>\n",
              "      <td>Positive</td>\n",
              "      <td>3</td>\n",
              "      <td>No</td>\n",
              "      <td>High School</td>\n",
              "      <td>Near</td>\n",
              "      <td>Male</td>\n",
              "      <td>67</td>\n",
              "    </tr>\n",
              "    <tr>\n",
              "      <th>1</th>\n",
              "      <td>19</td>\n",
              "      <td>64</td>\n",
              "      <td>Low</td>\n",
              "      <td>Medium</td>\n",
              "      <td>No</td>\n",
              "      <td>8</td>\n",
              "      <td>59</td>\n",
              "      <td>Low</td>\n",
              "      <td>Yes</td>\n",
              "      <td>2</td>\n",
              "      <td>Medium</td>\n",
              "      <td>Medium</td>\n",
              "      <td>Public</td>\n",
              "      <td>Negative</td>\n",
              "      <td>4</td>\n",
              "      <td>No</td>\n",
              "      <td>College</td>\n",
              "      <td>Moderate</td>\n",
              "      <td>Female</td>\n",
              "      <td>61</td>\n",
              "    </tr>\n",
              "    <tr>\n",
              "      <th>2</th>\n",
              "      <td>24</td>\n",
              "      <td>98</td>\n",
              "      <td>Medium</td>\n",
              "      <td>Medium</td>\n",
              "      <td>Yes</td>\n",
              "      <td>7</td>\n",
              "      <td>91</td>\n",
              "      <td>Medium</td>\n",
              "      <td>Yes</td>\n",
              "      <td>2</td>\n",
              "      <td>Medium</td>\n",
              "      <td>Medium</td>\n",
              "      <td>Public</td>\n",
              "      <td>Neutral</td>\n",
              "      <td>4</td>\n",
              "      <td>No</td>\n",
              "      <td>Postgraduate</td>\n",
              "      <td>Near</td>\n",
              "      <td>Male</td>\n",
              "      <td>74</td>\n",
              "    </tr>\n",
              "  </tbody>\n",
              "</table>\n",
              "</div>"
            ],
            "text/plain": [
              "   Hours_Studied  Attendance Parental_Involvement Access_to_Resources  \\\n",
              "0             23          84                  Low                High   \n",
              "1             19          64                  Low              Medium   \n",
              "2             24          98               Medium              Medium   \n",
              "\n",
              "  Extracurricular_Activities  Sleep_Hours  Previous_Scores Motivation_Level  \\\n",
              "0                         No            7               73              Low   \n",
              "1                         No            8               59              Low   \n",
              "2                        Yes            7               91           Medium   \n",
              "\n",
              "  Internet_Access  Tutoring_Sessions Family_Income Teacher_Quality  \\\n",
              "0             Yes                  0           Low          Medium   \n",
              "1             Yes                  2        Medium          Medium   \n",
              "2             Yes                  2        Medium          Medium   \n",
              "\n",
              "  School_Type Peer_Influence  Physical_Activity Learning_Disabilities  \\\n",
              "0      Public       Positive                  3                    No   \n",
              "1      Public       Negative                  4                    No   \n",
              "2      Public        Neutral                  4                    No   \n",
              "\n",
              "  Parental_Education_Level Distance_from_Home  Gender  Exam_Score  \n",
              "0              High School               Near    Male          67  \n",
              "1                  College           Moderate  Female          61  \n",
              "2             Postgraduate               Near    Male          74  "
            ]
          },
          "execution_count": 5,
          "metadata": {},
          "output_type": "execute_result"
        }
      ],
      "source": [
        "import numpy as np\n",
        "import pandas as pd\n",
        "df = (pd.read_csv(\"outputs/datasets/collection/StudentPerformance.csv\")\n",
        "      )\n",
        "\n",
        "print(df.shape)\n",
        "df.head(3)"
      ]
    },
    {
      "cell_type": "markdown",
      "metadata": {
        "id": "ZY3l0-AxO93d"
      },
      "source": [
        "---"
      ]
    },
    {
      "cell_type": "markdown",
      "metadata": {
        "id": "uFQo3ycuO-v6"
      },
      "source": [
        "# ML Pipline: Regressor"
      ]
    },
    {
      "cell_type": "markdown",
      "metadata": {},
      "source": [
        "## Create ML pipeline "
      ]
    },
    {
      "cell_type": "code",
      "execution_count": 6,
      "metadata": {},
      "outputs": [],
      "source": [
        "from sklearn.pipeline import Pipeline\n",
        "\n",
        "# Cleaning\n",
        "from feature_engine.imputation import CategoricalImputer\n",
        "\n",
        "# Feature Engineering\n",
        "from feature_engine.encoding import OrdinalEncoder\n",
        "from feature_engine.selection import SmartCorrelatedSelection\n",
        "from feature_engine.transformation import YeoJohnsonTransformer\n",
        "from feature_engine.discretisation import EqualFrequencyDiscretiser \n",
        "\n",
        "# Feat Scaling\n",
        "from sklearn.preprocessing import StandardScaler\n",
        "\n",
        "# Feat Selection\n",
        "from sklearn.feature_selection import SelectFromModel\n",
        "\n",
        "# ML algorithms\n",
        "from sklearn.tree import DecisionTreeRegressor\n",
        "from xgboost import XGBRegressor\n",
        "from sklearn.ensemble import GradientBoostingRegressor, RandomForestRegressor\n",
        "from sklearn.linear_model import LinearRegression\n",
        "from sklearn.ensemble import AdaBoostRegressor\n",
        "from sklearn.ensemble import ExtraTreesRegressor\n"
      ]
    },
    {
      "cell_type": "code",
      "execution_count": 7,
      "metadata": {},
      "outputs": [],
      "source": [
        "def PipelineOptimization(model):\n",
        "    pipeline_base = Pipeline([\n",
        "        ('categorical_imputer', CategoricalImputer(imputation_method='missing',\n",
        "                                                    fill_value='Missing',\n",
        "                                                    variables=['Teacher_Quality', 'Parental_Education_Level', 'Distance_from_Home'])),\n",
        "\n",
        "        (\"Ordinal_Encoder\", OrdinalEncoder(encoding_method='arbitrary',\n",
        "                                           variables=['Parental_Involvement', 'Access_to_Resources', 'Extracurricular_Activities',\n",
        "                                                      'Motivation_Level', 'Internet_Access', 'Family_Income', 'Teacher_Quality',\n",
        "                                                      'School_Type', 'Peer_Influence', 'Learning_Disabilities', 'Parental_Education_Level',\n",
        "                                                      'Distance_from_Home', 'Gender'])),\n",
        "        \n",
        "        (\"YeoJohnson\", YeoJohnsonTransformer(variables=['Attendance', 'Tutoring_Sessions'])),\n",
        "\n",
        "        (\"feat_scaling\", StandardScaler()),\n",
        "\n",
        "        (\"feat_selection\",  SelectFromModel(model)),\n",
        "\n",
        "        (\"model\", model),\n",
        "\n",
        "    ])\n",
        "\n",
        "    return pipeline_base"
      ]
    },
    {
      "cell_type": "markdown",
      "metadata": {},
      "source": [
        "Custom Class for hyperparameter optimisation"
      ]
    },
    {
      "cell_type": "code",
      "execution_count": 8,
      "metadata": {},
      "outputs": [],
      "source": [
        "from sklearn.model_selection import GridSearchCV\n",
        "\n",
        "\n",
        "class HyperparameterOptimizationSearch:\n",
        "\n",
        "    def __init__(self, models, params):\n",
        "        self.models = models\n",
        "        self.params = params\n",
        "        self.keys = models.keys()\n",
        "        self.grid_searches = {}\n",
        "\n",
        "    def fit(self, X, y, cv, n_jobs, verbose=1, scoring=None, refit=False):\n",
        "        for key in self.keys:\n",
        "            print(f\"\\nRunning GridSearchCV for {key} \\n\")\n",
        "            model = PipelineOptimization(self.models[key])\n",
        "\n",
        "            params = self.params[key]\n",
        "            gs = GridSearchCV(model, params, cv=cv, n_jobs=n_jobs,\n",
        "                              verbose=verbose, scoring=scoring)\n",
        "            gs.fit(X, y)\n",
        "            self.grid_searches[key] = gs\n",
        "\n",
        "    def score_summary(self, sort_by='mean_score'):\n",
        "        def row(key, scores, params):\n",
        "            d = {\n",
        "                'estimator': key,\n",
        "                'min_score': min(scores),\n",
        "                'max_score': max(scores),\n",
        "                'mean_score': np.mean(scores),\n",
        "                'std_score': np.std(scores),\n",
        "            }\n",
        "            return pd.Series({**params, **d})\n",
        "\n",
        "        rows = []\n",
        "        for k in self.grid_searches:\n",
        "            params = self.grid_searches[k].cv_results_['params']\n",
        "            scores = []\n",
        "            for i in range(self.grid_searches[k].cv):\n",
        "                key = \"split{}_test_score\".format(i)\n",
        "                r = self.grid_searches[k].cv_results_[key]\n",
        "                scores.append(r.reshape(len(params), 1))\n",
        "\n",
        "            all_scores = np.hstack(scores)\n",
        "            for p, s in zip(params, all_scores):\n",
        "                rows.append((row(k, s, p)))\n",
        "\n",
        "        df = pd.concat(rows, axis=1).T.sort_values([sort_by], ascending=False)\n",
        "\n",
        "        columns = ['estimator', 'min_score',\n",
        "                   'mean_score', 'max_score', 'std_score']\n",
        "        columns = columns + [c for c in df.columns if c not in columns]\n",
        "\n",
        "        return df[columns], self.grid_searches\n"
      ]
    },
    {
      "cell_type": "markdown",
      "metadata": {},
      "source": [
        "---"
      ]
    },
    {
      "cell_type": "markdown",
      "metadata": {},
      "source": [
        "## Split Train and Test Set"
      ]
    },
    {
      "cell_type": "code",
      "execution_count": 9,
      "metadata": {},
      "outputs": [
        {
          "name": "stdout",
          "output_type": "stream",
          "text": [
            "* Train set: (5285, 19) (5285,) \n",
            "* Test set: (1322, 19) (1322,)\n"
          ]
        }
      ],
      "source": [
        "from sklearn.model_selection import train_test_split\n",
        "X = df.drop(['Exam_Score'], axis=1) # Defining the features\n",
        "y = df['Exam_Score'] # Defining the the target for the prediction\n",
        "\n",
        "X_train, X_test, y_train, y_test = train_test_split(\n",
        "     X,\n",
        "     y,\n",
        "     test_size=0.2,\n",
        "     random_state=0\n",
        " )\n",
        "\n",
        "print(\"* Train set:\", X_train.shape, y_train.shape,\n",
        "       \"\\n* Test set:\",  X_test.shape, y_test.shape)"
      ]
    },
    {
      "cell_type": "markdown",
      "metadata": {},
      "source": [
        "## Grid Search CV - Sklearn"
      ]
    },
    {
      "cell_type": "code",
      "execution_count": 8,
      "metadata": {},
      "outputs": [],
      "source": [
        "models_quick_search = {\n",
        "    'LinearRegression': LinearRegression(),\n",
        "    \"DecisionTreeRegressor\": DecisionTreeRegressor(random_state=0),\n",
        "    \"RandomForestRegressor\": RandomForestRegressor(random_state=0),\n",
        "    \"ExtraTreesRegressor\": ExtraTreesRegressor(random_state=0),\n",
        "    \"AdaBoostRegressor\": AdaBoostRegressor(random_state=0),\n",
        "    \"GradientBoostingRegressor\": GradientBoostingRegressor(random_state=0),\n",
        "    \"XGBRegressor\": XGBRegressor(random_state=0),\n",
        "}\n",
        "\n",
        "\n",
        "params_quick_search = {\n",
        "    'LinearRegression': {},\n",
        "    \"DecisionTreeRegressor\": {},\n",
        "    \"RandomForestRegressor\": {},\n",
        "    \"ExtraTreesRegressor\": {},\n",
        "    \"AdaBoostRegressor\": {},\n",
        "    \"GradientBoostingRegressor\": {},\n",
        "    \"XGBRegressor\": {},\n",
        "}"
      ]
    },
    {
      "cell_type": "markdown",
      "metadata": {},
      "source": [
        "Do a hyperparameter optimisation search using default hyperparameters"
      ]
    },
    {
      "cell_type": "code",
      "execution_count": null,
      "metadata": {},
      "outputs": [],
      "source": [
        "search = HyperparameterOptimizationSearch(models=models_quick_search, params=params_quick_search)\n",
        "search.fit(X_train, y_train, scoring='r2', n_jobs=-1, cv=5)"
      ]
    },
    {
      "cell_type": "markdown",
      "metadata": {},
      "source": [
        "Checking the resulte"
      ]
    },
    {
      "cell_type": "code",
      "execution_count": 11,
      "metadata": {},
      "outputs": [
        {
          "data": {
            "text/html": [
              "<div>\n",
              "<style scoped>\n",
              "    .dataframe tbody tr th:only-of-type {\n",
              "        vertical-align: middle;\n",
              "    }\n",
              "\n",
              "    .dataframe tbody tr th {\n",
              "        vertical-align: top;\n",
              "    }\n",
              "\n",
              "    .dataframe thead th {\n",
              "        text-align: right;\n",
              "    }\n",
              "</style>\n",
              "<table border=\"1\" class=\"dataframe\">\n",
              "  <thead>\n",
              "    <tr style=\"text-align: right;\">\n",
              "      <th></th>\n",
              "      <th>estimator</th>\n",
              "      <th>min_score</th>\n",
              "      <th>mean_score</th>\n",
              "      <th>max_score</th>\n",
              "      <th>std_score</th>\n",
              "    </tr>\n",
              "  </thead>\n",
              "  <tbody>\n",
              "    <tr>\n",
              "      <th>0</th>\n",
              "      <td>LinearRegression</td>\n",
              "      <td>0.494062</td>\n",
              "      <td>0.641766</td>\n",
              "      <td>0.764155</td>\n",
              "      <td>0.089603</td>\n",
              "    </tr>\n",
              "    <tr>\n",
              "      <th>5</th>\n",
              "      <td>GradientBoostingRegressor</td>\n",
              "      <td>0.443837</td>\n",
              "      <td>0.551627</td>\n",
              "      <td>0.652642</td>\n",
              "      <td>0.071278</td>\n",
              "    </tr>\n",
              "    <tr>\n",
              "      <th>6</th>\n",
              "      <td>XGBRegressor</td>\n",
              "      <td>0.407407</td>\n",
              "      <td>0.516318</td>\n",
              "      <td>0.611245</td>\n",
              "      <td>0.070621</td>\n",
              "    </tr>\n",
              "    <tr>\n",
              "      <th>2</th>\n",
              "      <td>RandomForestRegressor</td>\n",
              "      <td>0.338651</td>\n",
              "      <td>0.481695</td>\n",
              "      <td>0.607583</td>\n",
              "      <td>0.087903</td>\n",
              "    </tr>\n",
              "    <tr>\n",
              "      <th>3</th>\n",
              "      <td>ExtraTreesRegressor</td>\n",
              "      <td>0.281325</td>\n",
              "      <td>0.382418</td>\n",
              "      <td>0.52964</td>\n",
              "      <td>0.095395</td>\n",
              "    </tr>\n",
              "    <tr>\n",
              "      <th>1</th>\n",
              "      <td>DecisionTreeRegressor</td>\n",
              "      <td>-0.027753</td>\n",
              "      <td>0.112576</td>\n",
              "      <td>0.245693</td>\n",
              "      <td>0.106021</td>\n",
              "    </tr>\n",
              "    <tr>\n",
              "      <th>4</th>\n",
              "      <td>AdaBoostRegressor</td>\n",
              "      <td>-1.194011</td>\n",
              "      <td>-0.455568</td>\n",
              "      <td>0.343277</td>\n",
              "      <td>0.563316</td>\n",
              "    </tr>\n",
              "  </tbody>\n",
              "</table>\n",
              "</div>"
            ],
            "text/plain": [
              "                   estimator min_score mean_score max_score std_score\n",
              "0           LinearRegression  0.494062   0.641766  0.764155  0.089603\n",
              "5  GradientBoostingRegressor  0.443837   0.551627  0.652642  0.071278\n",
              "6               XGBRegressor  0.407407   0.516318  0.611245  0.070621\n",
              "2      RandomForestRegressor  0.338651   0.481695  0.607583  0.087903\n",
              "3        ExtraTreesRegressor  0.281325   0.382418   0.52964  0.095395\n",
              "1      DecisionTreeRegressor -0.027753   0.112576  0.245693  0.106021\n",
              "4          AdaBoostRegressor -1.194011  -0.455568  0.343277  0.563316"
            ]
          },
          "execution_count": 11,
          "metadata": {},
          "output_type": "execute_result"
        }
      ],
      "source": [
        "grid_search_summary, grid_search_pipelines = search.score_summary(sort_by='mean_score')\n",
        "grid_search_summary"
      ]
    },
    {
      "cell_type": "markdown",
      "metadata": {},
      "source": [
        "Since LinearRegssion doesn't have so many hyperparameter, the model GradientBoostRegressor will also be explored to see if the Model be improved."
      ]
    },
    {
      "cell_type": "code",
      "execution_count": 9,
      "metadata": {},
      "outputs": [],
      "source": [
        "models_search = {\n",
        "    # 'LinearRegression': LinearRegression(),\n",
        "    \"GradientBoostingRegressor\": GradientBoostingRegressor(random_state=0),\n",
        "}\n",
        "\n",
        "params_search = {\n",
        "    # 'LinearRegression': {\n",
        "    #     'model__positive': [True, False],\n",
        "    #     'model__n_jobs':[None, 1, 2]\n",
        "    # },\n",
        "    \"GradientBoostingRegressor\": {\n",
        "        'model__learning_rate': [0.05, 0.1],\n",
        "        'model__n_estimators': [100, 200, 300],\n",
        "        'model__max_depth': [3, 5],\n",
        "        'model__min_samples_split': [2, 5, 10],\n",
        "        'model__min_samples_leaf': [1, 2],\n",
        "        'model__max_leaf_nodes': [10],\n",
        "        'model__learning_rate': [0.01, 0.05, 0.1],\n",
        "        'model__subsample': [0.8, 1.0],\n",
        "        'model__max_features': ['sqrt', 'log2'] \n",
        "    },\n",
        "    \n",
        "}"
      ]
    },
    {
      "cell_type": "code",
      "execution_count": 10,
      "metadata": {},
      "outputs": [
        {
          "name": "stdout",
          "output_type": "stream",
          "text": [
            "\n",
            "Running GridSearchCV for GradientBoostingRegressor \n",
            "\n",
            "Fitting 5 folds for each of 2916 candidates, totalling 14580 fits\n"
          ]
        }
      ],
      "source": [
        "search = HyperparameterOptimizationSearch(models=models_search, params=params_search)\n",
        "search.fit(X_train, y_train, scoring = 'r2', n_jobs=-1, cv=5)  "
      ]
    },
    {
      "cell_type": "code",
      "execution_count": 11,
      "metadata": {},
      "outputs": [
        {
          "data": {
            "text/html": [
              "<div>\n",
              "<style scoped>\n",
              "    .dataframe tbody tr th:only-of-type {\n",
              "        vertical-align: middle;\n",
              "    }\n",
              "\n",
              "    .dataframe tbody tr th {\n",
              "        vertical-align: top;\n",
              "    }\n",
              "\n",
              "    .dataframe thead th {\n",
              "        text-align: right;\n",
              "    }\n",
              "</style>\n",
              "<table border=\"1\" class=\"dataframe\">\n",
              "  <thead>\n",
              "    <tr style=\"text-align: right;\">\n",
              "      <th></th>\n",
              "      <th>estimator</th>\n",
              "      <th>min_score</th>\n",
              "      <th>mean_score</th>\n",
              "      <th>max_score</th>\n",
              "      <th>std_score</th>\n",
              "      <th>model__learning_rate</th>\n",
              "      <th>model__max_depth</th>\n",
              "      <th>model__max_features</th>\n",
              "      <th>model__max_leaf_nodes</th>\n",
              "      <th>model__min_samples_leaf</th>\n",
              "      <th>model__min_samples_split</th>\n",
              "      <th>model__n_estimators</th>\n",
              "      <th>model__subsample</th>\n",
              "    </tr>\n",
              "  </thead>\n",
              "  <tbody>\n",
              "    <tr>\n",
              "      <th>1242</th>\n",
              "      <td>GradientBoostingRegressor</td>\n",
              "      <td>0.446847</td>\n",
              "      <td>0.556504</td>\n",
              "      <td>0.663426</td>\n",
              "      <td>0.072982</td>\n",
              "      <td>0.05</td>\n",
              "      <td>3</td>\n",
              "      <td>log2</td>\n",
              "      <td>10</td>\n",
              "      <td>1</td>\n",
              "      <td>2</td>\n",
              "      <td>100</td>\n",
              "      <td>0.8</td>\n",
              "    </tr>\n",
              "    <tr>\n",
              "      <th>1134</th>\n",
              "      <td>GradientBoostingRegressor</td>\n",
              "      <td>0.446847</td>\n",
              "      <td>0.556504</td>\n",
              "      <td>0.663426</td>\n",
              "      <td>0.072982</td>\n",
              "      <td>0.05</td>\n",
              "      <td>3</td>\n",
              "      <td>sqrt</td>\n",
              "      <td>10</td>\n",
              "      <td>1</td>\n",
              "      <td>2</td>\n",
              "      <td>100</td>\n",
              "      <td>0.8</td>\n",
              "    </tr>\n",
              "    <tr>\n",
              "      <th>1260</th>\n",
              "      <td>GradientBoostingRegressor</td>\n",
              "      <td>0.44674</td>\n",
              "      <td>0.556464</td>\n",
              "      <td>0.663597</td>\n",
              "      <td>0.073082</td>\n",
              "      <td>0.05</td>\n",
              "      <td>3</td>\n",
              "      <td>log2</td>\n",
              "      <td>10</td>\n",
              "      <td>1</td>\n",
              "      <td>10</td>\n",
              "      <td>100</td>\n",
              "      <td>0.8</td>\n",
              "    </tr>\n",
              "    <tr>\n",
              "      <th>1152</th>\n",
              "      <td>GradientBoostingRegressor</td>\n",
              "      <td>0.44674</td>\n",
              "      <td>0.556464</td>\n",
              "      <td>0.663597</td>\n",
              "      <td>0.073082</td>\n",
              "      <td>0.05</td>\n",
              "      <td>3</td>\n",
              "      <td>sqrt</td>\n",
              "      <td>10</td>\n",
              "      <td>1</td>\n",
              "      <td>10</td>\n",
              "      <td>100</td>\n",
              "      <td>0.8</td>\n",
              "    </tr>\n",
              "    <tr>\n",
              "      <th>1251</th>\n",
              "      <td>GradientBoostingRegressor</td>\n",
              "      <td>0.44674</td>\n",
              "      <td>0.556446</td>\n",
              "      <td>0.663411</td>\n",
              "      <td>0.073031</td>\n",
              "      <td>0.05</td>\n",
              "      <td>3</td>\n",
              "      <td>log2</td>\n",
              "      <td>10</td>\n",
              "      <td>1</td>\n",
              "      <td>5</td>\n",
              "      <td>100</td>\n",
              "      <td>0.8</td>\n",
              "    </tr>\n",
              "    <tr>\n",
              "      <th>...</th>\n",
              "      <td>...</td>\n",
              "      <td>...</td>\n",
              "      <td>...</td>\n",
              "      <td>...</td>\n",
              "      <td>...</td>\n",
              "      <td>...</td>\n",
              "      <td>...</td>\n",
              "      <td>...</td>\n",
              "      <td>...</td>\n",
              "      <td>...</td>\n",
              "      <td>...</td>\n",
              "      <td>...</td>\n",
              "      <td>...</td>\n",
              "    </tr>\n",
              "    <tr>\n",
              "      <th>146</th>\n",
              "      <td>GradientBoostingRegressor</td>\n",
              "      <td>0.296803</td>\n",
              "      <td>0.408105</td>\n",
              "      <td>0.484977</td>\n",
              "      <td>0.062931</td>\n",
              "      <td>0.01</td>\n",
              "      <td>3</td>\n",
              "      <td>sqrt</td>\n",
              "      <td>None</td>\n",
              "      <td>2</td>\n",
              "      <td>5</td>\n",
              "      <td>100</td>\n",
              "      <td>1.0</td>\n",
              "    </tr>\n",
              "    <tr>\n",
              "      <th>254</th>\n",
              "      <td>GradientBoostingRegressor</td>\n",
              "      <td>0.296803</td>\n",
              "      <td>0.408105</td>\n",
              "      <td>0.484977</td>\n",
              "      <td>0.062931</td>\n",
              "      <td>0.01</td>\n",
              "      <td>3</td>\n",
              "      <td>log2</td>\n",
              "      <td>None</td>\n",
              "      <td>2</td>\n",
              "      <td>5</td>\n",
              "      <td>100</td>\n",
              "      <td>1.0</td>\n",
              "    </tr>\n",
              "    <tr>\n",
              "      <th>263</th>\n",
              "      <td>GradientBoostingRegressor</td>\n",
              "      <td>0.296803</td>\n",
              "      <td>0.408105</td>\n",
              "      <td>0.484977</td>\n",
              "      <td>0.062931</td>\n",
              "      <td>0.01</td>\n",
              "      <td>3</td>\n",
              "      <td>log2</td>\n",
              "      <td>None</td>\n",
              "      <td>2</td>\n",
              "      <td>10</td>\n",
              "      <td>100</td>\n",
              "      <td>1.0</td>\n",
              "    </tr>\n",
              "    <tr>\n",
              "      <th>119</th>\n",
              "      <td>GradientBoostingRegressor</td>\n",
              "      <td>0.296803</td>\n",
              "      <td>0.408105</td>\n",
              "      <td>0.484977</td>\n",
              "      <td>0.062931</td>\n",
              "      <td>0.01</td>\n",
              "      <td>3</td>\n",
              "      <td>sqrt</td>\n",
              "      <td>None</td>\n",
              "      <td>1</td>\n",
              "      <td>5</td>\n",
              "      <td>100</td>\n",
              "      <td>1.0</td>\n",
              "    </tr>\n",
              "    <tr>\n",
              "      <th>110</th>\n",
              "      <td>GradientBoostingRegressor</td>\n",
              "      <td>0.296803</td>\n",
              "      <td>0.408105</td>\n",
              "      <td>0.484977</td>\n",
              "      <td>0.062931</td>\n",
              "      <td>0.01</td>\n",
              "      <td>3</td>\n",
              "      <td>sqrt</td>\n",
              "      <td>None</td>\n",
              "      <td>1</td>\n",
              "      <td>2</td>\n",
              "      <td>100</td>\n",
              "      <td>1.0</td>\n",
              "    </tr>\n",
              "  </tbody>\n",
              "</table>\n",
              "<p>2916 rows × 13 columns</p>\n",
              "</div>"
            ],
            "text/plain": [
              "                      estimator min_score mean_score max_score std_score  \\\n",
              "1242  GradientBoostingRegressor  0.446847   0.556504  0.663426  0.072982   \n",
              "1134  GradientBoostingRegressor  0.446847   0.556504  0.663426  0.072982   \n",
              "1260  GradientBoostingRegressor   0.44674   0.556464  0.663597  0.073082   \n",
              "1152  GradientBoostingRegressor   0.44674   0.556464  0.663597  0.073082   \n",
              "1251  GradientBoostingRegressor   0.44674   0.556446  0.663411  0.073031   \n",
              "...                         ...       ...        ...       ...       ...   \n",
              "146   GradientBoostingRegressor  0.296803   0.408105  0.484977  0.062931   \n",
              "254   GradientBoostingRegressor  0.296803   0.408105  0.484977  0.062931   \n",
              "263   GradientBoostingRegressor  0.296803   0.408105  0.484977  0.062931   \n",
              "119   GradientBoostingRegressor  0.296803   0.408105  0.484977  0.062931   \n",
              "110   GradientBoostingRegressor  0.296803   0.408105  0.484977  0.062931   \n",
              "\n",
              "     model__learning_rate model__max_depth model__max_features  \\\n",
              "1242                 0.05                3                log2   \n",
              "1134                 0.05                3                sqrt   \n",
              "1260                 0.05                3                log2   \n",
              "1152                 0.05                3                sqrt   \n",
              "1251                 0.05                3                log2   \n",
              "...                   ...              ...                 ...   \n",
              "146                  0.01                3                sqrt   \n",
              "254                  0.01                3                log2   \n",
              "263                  0.01                3                log2   \n",
              "119                  0.01                3                sqrt   \n",
              "110                  0.01                3                sqrt   \n",
              "\n",
              "     model__max_leaf_nodes model__min_samples_leaf model__min_samples_split  \\\n",
              "1242                    10                       1                        2   \n",
              "1134                    10                       1                        2   \n",
              "1260                    10                       1                       10   \n",
              "1152                    10                       1                       10   \n",
              "1251                    10                       1                        5   \n",
              "...                    ...                     ...                      ...   \n",
              "146                   None                       2                        5   \n",
              "254                   None                       2                        5   \n",
              "263                   None                       2                       10   \n",
              "119                   None                       1                        5   \n",
              "110                   None                       1                        2   \n",
              "\n",
              "     model__n_estimators model__subsample  \n",
              "1242                 100              0.8  \n",
              "1134                 100              0.8  \n",
              "1260                 100              0.8  \n",
              "1152                 100              0.8  \n",
              "1251                 100              0.8  \n",
              "...                  ...              ...  \n",
              "146                  100              1.0  \n",
              "254                  100              1.0  \n",
              "263                  100              1.0  \n",
              "119                  100              1.0  \n",
              "110                  100              1.0  \n",
              "\n",
              "[2916 rows x 13 columns]"
            ]
          },
          "execution_count": 11,
          "metadata": {},
          "output_type": "execute_result"
        }
      ],
      "source": [
        "grid_search_summary, grid_search_pipelines = search.score_summary(sort_by='mean_score')\n",
        "grid_search_summary"
      ]
    },
    {
      "cell_type": "markdown",
      "metadata": {},
      "source": [
        "### Quick Conclusion\n",
        "\n",
        "To find a model with a mean score of at least 0.8, as specified in the business case, the data underwent cleaning and feature engineering, which were detailed in previous notebooks. Various models were tested, and it was observed that the model with the highest mean score was LinearRegression, achieving approximately 0.64, followed by GradientBoostingRegressor with a score of around 0.55. \n",
        "\n",
        "Due to LinearRegression having very few hyperparameters, GradientBoostingRegressor was also explored to see if its performance could be enhanced through hyperparameter tuning. In the first attempt to improve the model using hyperparameters, it was evident that LinearRegression still maintained the highest mean score, although there was no improvement in the score itself. \n",
        "\n",
        "In the second attempt, the LinearRegression model was removed, and more hyperparameters were introduced to assess potential improvements. However, the results indicated that LinearRegression continued to have the best mean score.\n",
        "\n",
        "**Score for the LinearRegresson and the quick search**\n",
        "|estimator | min_score | mean_score | max_score | std_score | \n",
        "|:----     |----       |----        |----       |----       |\n",
        "|LinearRegression |\t0.494062 | 0.641766 | 0.764155 | 0.089603 |\n",
        "\n",
        "**Attempt two to improve the model with the hyperparameters**\n",
        "|no. |estimator | min_score | mean_score | max_score | std_score | \n",
        "|:---|:----     |----       |----        |----       |----       |\n",
        "|1242 | GradientBoostingRegressor | 0.446847 | 0.556504 | 0.663426 | 0.072982 |\n",
        "|1134 | GradientBoostingRegressor | 0.446847 | 0.556504 | 0.663426 |\t0.072982 |\t\n",
        "|1260 | GradientBoostingRegressor | 0.44674  | 0.556464 | 0.663597 | 0.073082 |\t\n",
        "|1152 | GradientBoostingRegressor | 0.44674  | 0.556464 | 0.663597 |\t0.073082 |\t\n",
        "|1251 | GradientBoostingRegressor | 0.44674 | 0.556446 | 0.663411 | 0.073031 |\n",
        "\n",
        "The next step is to explore if the model will have a better result with the NaN values replaced with the most frequent values.\n"
      ]
    },
    {
      "cell_type": "markdown",
      "metadata": {},
      "source": [
        "## Create ML pipeline with Missing values to most fequent"
      ]
    },
    {
      "cell_type": "code",
      "execution_count": 18,
      "metadata": {},
      "outputs": [],
      "source": [
        "from feature_engine.imputation import CategoricalImputer, DropMissingData\n",
        "\n",
        "def PipelineOptimization(model):\n",
        "    pipeline_base = Pipeline([\n",
        "        ('categorical_imputer', CategoricalImputer(imputation_method='frequent',\n",
        "                                                   variables=['Teacher_Quality', 'Parental_Education_Level', 'Distance_from_Home'])),\n",
        "\n",
        "        (\"Ordinal_Encoder\", OrdinalEncoder(encoding_method='arbitrary',\n",
        "                                           variables=['Parental_Involvement', 'Access_to_Resources', 'Extracurricular_Activities',\n",
        "                                                      'Motivation_Level', 'Internet_Access', 'Family_Income', 'Teacher_Quality',\n",
        "                                                      'School_Type', 'Peer_Influence', 'Learning_Disabilities', 'Parental_Education_Level',\n",
        "                                                      'Distance_from_Home', 'Gender'])),\n",
        "        \n",
        "        (\"YeoJohnson\", YeoJohnsonTransformer(variables=['Attendance', 'Tutoring_Sessions'])),\n",
        "\n",
        "        (\"feat_scaling\", StandardScaler()),\n",
        "\n",
        "        (\"feat_selection\",  SelectFromModel(model)),\n",
        "\n",
        "        (\"model\", model),\n",
        "\n",
        "    ])\n",
        "\n",
        "    return pipeline_base"
      ]
    },
    {
      "cell_type": "code",
      "execution_count": 19,
      "metadata": {},
      "outputs": [
        {
          "name": "stdout",
          "output_type": "stream",
          "text": [
            "\n",
            "Running GridSearchCV for LinearRegression \n",
            "\n",
            "Fitting 5 folds for each of 1 candidates, totalling 5 fits\n",
            "\n",
            "Running GridSearchCV for DecisionTreeRegressor \n",
            "\n",
            "Fitting 5 folds for each of 1 candidates, totalling 5 fits\n",
            "\n",
            "Running GridSearchCV for RandomForestRegressor \n",
            "\n",
            "Fitting 5 folds for each of 1 candidates, totalling 5 fits\n",
            "\n",
            "Running GridSearchCV for ExtraTreesRegressor \n",
            "\n",
            "Fitting 5 folds for each of 1 candidates, totalling 5 fits\n",
            "\n",
            "Running GridSearchCV for AdaBoostRegressor \n",
            "\n",
            "Fitting 5 folds for each of 1 candidates, totalling 5 fits\n",
            "\n",
            "Running GridSearchCV for GradientBoostingRegressor \n",
            "\n",
            "Fitting 5 folds for each of 1 candidates, totalling 5 fits\n",
            "\n",
            "Running GridSearchCV for XGBRegressor \n",
            "\n",
            "Fitting 5 folds for each of 1 candidates, totalling 5 fits\n"
          ]
        }
      ],
      "source": [
        "search = HyperparameterOptimizationSearch(models=models_quick_search, params=params_quick_search)\n",
        "search.fit(X_train, y_train, scoring='r2', n_jobs=-1, cv=5)"
      ]
    },
    {
      "cell_type": "code",
      "execution_count": 20,
      "metadata": {},
      "outputs": [
        {
          "data": {
            "text/html": [
              "<div>\n",
              "<style scoped>\n",
              "    .dataframe tbody tr th:only-of-type {\n",
              "        vertical-align: middle;\n",
              "    }\n",
              "\n",
              "    .dataframe tbody tr th {\n",
              "        vertical-align: top;\n",
              "    }\n",
              "\n",
              "    .dataframe thead th {\n",
              "        text-align: right;\n",
              "    }\n",
              "</style>\n",
              "<table border=\"1\" class=\"dataframe\">\n",
              "  <thead>\n",
              "    <tr style=\"text-align: right;\">\n",
              "      <th></th>\n",
              "      <th>estimator</th>\n",
              "      <th>min_score</th>\n",
              "      <th>mean_score</th>\n",
              "      <th>max_score</th>\n",
              "      <th>std_score</th>\n",
              "    </tr>\n",
              "  </thead>\n",
              "  <tbody>\n",
              "    <tr>\n",
              "      <th>0</th>\n",
              "      <td>LinearRegression</td>\n",
              "      <td>0.530141</td>\n",
              "      <td>0.630419</td>\n",
              "      <td>0.690003</td>\n",
              "      <td>0.053237</td>\n",
              "    </tr>\n",
              "    <tr>\n",
              "      <th>5</th>\n",
              "      <td>GradientBoostingRegressor</td>\n",
              "      <td>0.429427</td>\n",
              "      <td>0.547969</td>\n",
              "      <td>0.624965</td>\n",
              "      <td>0.064219</td>\n",
              "    </tr>\n",
              "    <tr>\n",
              "      <th>6</th>\n",
              "      <td>XGBRegressor</td>\n",
              "      <td>0.355214</td>\n",
              "      <td>0.493917</td>\n",
              "      <td>0.576832</td>\n",
              "      <td>0.078367</td>\n",
              "    </tr>\n",
              "    <tr>\n",
              "      <th>2</th>\n",
              "      <td>RandomForestRegressor</td>\n",
              "      <td>0.403796</td>\n",
              "      <td>0.458818</td>\n",
              "      <td>0.51495</td>\n",
              "      <td>0.036278</td>\n",
              "    </tr>\n",
              "    <tr>\n",
              "      <th>3</th>\n",
              "      <td>ExtraTreesRegressor</td>\n",
              "      <td>0.343208</td>\n",
              "      <td>0.398857</td>\n",
              "      <td>0.468127</td>\n",
              "      <td>0.04184</td>\n",
              "    </tr>\n",
              "    <tr>\n",
              "      <th>1</th>\n",
              "      <td>DecisionTreeRegressor</td>\n",
              "      <td>-0.161578</td>\n",
              "      <td>0.024558</td>\n",
              "      <td>0.188947</td>\n",
              "      <td>0.147951</td>\n",
              "    </tr>\n",
              "    <tr>\n",
              "      <th>4</th>\n",
              "      <td>AdaBoostRegressor</td>\n",
              "      <td>-0.172119</td>\n",
              "      <td>-0.021568</td>\n",
              "      <td>0.20844</td>\n",
              "      <td>0.134745</td>\n",
              "    </tr>\n",
              "  </tbody>\n",
              "</table>\n",
              "</div>"
            ],
            "text/plain": [
              "                   estimator min_score mean_score max_score std_score\n",
              "0           LinearRegression  0.530141   0.630419  0.690003  0.053237\n",
              "5  GradientBoostingRegressor  0.429427   0.547969  0.624965  0.064219\n",
              "6               XGBRegressor  0.355214   0.493917  0.576832  0.078367\n",
              "2      RandomForestRegressor  0.403796   0.458818   0.51495  0.036278\n",
              "3        ExtraTreesRegressor  0.343208   0.398857  0.468127   0.04184\n",
              "1      DecisionTreeRegressor -0.161578   0.024558  0.188947  0.147951\n",
              "4          AdaBoostRegressor -0.172119  -0.021568   0.20844  0.134745"
            ]
          },
          "execution_count": 20,
          "metadata": {},
          "output_type": "execute_result"
        }
      ],
      "source": [
        "grid_search_summary, grid_search_pipelines = search.score_summary(sort_by='mean_score')\n",
        "grid_search_summary"
      ]
    },
    {
      "cell_type": "markdown",
      "metadata": {},
      "source": [
        "### Quick Conclusion\n",
        "\n",
        "In this section, we replaced the missing values with the most frequent value for each specific feature, instead of labeling them as 'Missing'. This approach aimed to improve the model's performance. We tested various models; however, further investigation with hyperparameters was determined to be unnecessary. The results showed that changing the NaN values to the most frequent values in the features had no significant impact. Since there were no major differences observed, the subsequent tests will use the method of replacing NaN values with 'Missing'.\n",
        "\n",
        "The next step in this notebook is to explore a model called KNeighborsRegressor."
      ]
    },
    {
      "cell_type": "markdown",
      "metadata": {},
      "source": [
        "## Create Pipline modified for KNeighborsRegressor\n",
        "\n",
        "The KNeighborsRegressor is a non-parametric regression method that predicts values based on the k closest training data points. It stores the training data and uses a distance metric, usually Euclidean distance, to make predictions.\n",
        "\n",
        "For each prediction, the average of the target values of the k nearest points is calculated. This can be done with uniform weighting or by considering distance. Choosing the right value for k is crucial: smaller values may result in high variance, while larger values can lead to high bias. Therefore, the function below examines the optimal k-value, along with the mean R² value."
      ]
    },
    {
      "cell_type": "code",
      "execution_count": 24,
      "metadata": {},
      "outputs": [],
      "source": [
        "def PipelineOptimization_KNN(model):\n",
        "    steps = [\n",
        "        ('categorical_imputer', CategoricalImputer(imputation_method='missing',\n",
        "                                                    fill_value='Missing',\n",
        "                                                    variables=['Teacher_Quality', 'Parental_Education_Level', 'Distance_from_Home'])),\n",
        "        (\"Ordinal_Encoder\", OrdinalEncoder(encoding_method='arbitrary',\n",
        "                                           variables=['Parental_Involvement', 'Access_to_Resources', 'Extracurricular_Activities',\n",
        "                                                      'Motivation_Level', 'Internet_Access', 'Family_Income', 'Teacher_Quality',\n",
        "                                                      'School_Type', 'Peer_Influence', 'Learning_Disabilities', 'Parental_Education_Level',\n",
        "                                                      'Distance_from_Home', 'Gender'])),\n",
        "        (\"YeoJohnson\", YeoJohnsonTransformer(['Attendance', 'Tutoring_Sessions'])),\n",
        "        (\"feat_scaling\", StandardScaler())\n",
        "    ]\n",
        "    \n",
        "    # Add feature selection step only if the model has feature_importances_ or coef_ attributes\n",
        "    if hasattr(model, 'feature_importances_') or hasattr(model, 'coef_'):\n",
        "        steps.append((\"feat_selection\", SelectFromModel(model)))\n",
        "\n",
        "    steps.append((\"model\", model))\n",
        "    \n",
        "    pipeline_base = Pipeline(steps)\n",
        "    return pipeline_base"
      ]
    },
    {
      "cell_type": "code",
      "execution_count": 27,
      "metadata": {},
      "outputs": [
        {
          "name": "stdout",
          "output_type": "stream",
          "text": [
            "The max value is 0.4677504653592591 and as the k-value 19\n"
          ]
        },
        {
          "data": {
            "image/png": "[encoded data removed]",
            "text/plain": [
              "<Figure size 640x480 with 1 Axes>"
            ]
          },
          "metadata": {},
          "output_type": "display_data"
        }
      ],
      "source": [
        "from sklearn.neighbors import KNeighborsRegressor\n",
        "from sklearn.metrics import mean_absolute_error, mean_squared_error, r2_score\n",
        "import matplotlib.pyplot as plt\n",
        "import numpy as np\n",
        "\n",
        "\n",
        "def Predict_k_value(X_train, y_train, X_test, y_test, k_max):\n",
        "    knn_r_score=[]\n",
        "\n",
        "    for i in range(1, k_max):\n",
        "        # Create and fit the KNeighborsRegressor\n",
        "        knn_pipeline = PipelineOptimization_KNN(KNeighborsRegressor(n_neighbors=i, weights='distance', algorithm='ball_tree'))\n",
        "        knn_pipeline.fit(X_train, y_train)\n",
        "\n",
        "        # Predict on the test data\n",
        "        y_pred = knn_pipeline.predict(X_test)\n",
        "        r2 = r2_score(y_test, y_pred)\n",
        "        knn_r_score.append(r2)\n",
        "\n",
        "    print(f'The max value is {max(knn_r_score)} and as the k-value {knn_r_score.index(max(knn_r_score))}')\n",
        "    plt.plot(range(1, k_max), knn_r_score)\n",
        "    plt.show\n",
        "\n",
        "Predict_k_value(X_train, y_train, X_test, y_test, 201)"
      ]
    },
    {
      "cell_type": "markdown",
      "metadata": {},
      "source": [
        "### Quick Conclusion\n",
        "\n",
        "As previously discussed, an alternative approach was attempted to improve the model. In this case, the KNeighborsRegressor model was utilized, and a function was created to determine the optimal k value. The most suitable k-value found was 19, however, the mean score for the R² value was approximately 0.47, which is much lower than the scores obtained in previous sections.\n",
        "\n",
        "In the next section, a pipeline will be developed using PCA to enhance the model."
      ]
    },
    {
      "cell_type": "markdown",
      "metadata": {},
      "source": [
        "## Create ML Pipline with PCA"
      ]
    },
    {
      "cell_type": "code",
      "execution_count": 8,
      "metadata": {},
      "outputs": [],
      "source": [
        "df = (pd.read_csv(\"outputs/datasets/collection/StudentPerformance.csv\")\n",
        "      )"
      ]
    },
    {
      "cell_type": "code",
      "execution_count": null,
      "metadata": {},
      "outputs": [],
      "source": [
        "pipeline = PipelineOptimization(model=LinearRegression())\n",
        "pipeline_pca = Pipeline(pipeline.steps[:3])\n",
        "df_pca = pipeline_pca.fit_transform(df.drop(['Exam_Score'], axis=1))\n",
        "\n",
        "print(df_pca.shape,'\\n', type(df_pca))"
      ]
    },
    {
      "cell_type": "code",
      "execution_count": null,
      "metadata": {},
      "outputs": [],
      "source": [
        "import numpy as np\n",
        "import seaborn as sns\n",
        "import matplotlib as plt\n",
        "from sklearn.decomposition import PCA\n",
        "\n",
        "n_components = 19\n",
        "\n",
        "\n",
        "def pca_components_analysis(df_pca, n_components):\n",
        "    pca = PCA(n_components=n_components).fit(df_pca)\n",
        "    x_PCA = pca.transform(df_pca)  # array with transformed PCA\n",
        "\n",
        "    ComponentsList = [\"Component \" + str(number)\n",
        "                      for number in range(n_components)]\n",
        "    dfExplVarRatio = pd.DataFrame(\n",
        "        data=np.round(100 * pca.explained_variance_ratio_, 3),\n",
        "        index=ComponentsList,\n",
        "        columns=['Explained Variance Ratio (%)'])\n",
        "\n",
        "    dfExplVarRatio['Accumulated Variance'] = dfExplVarRatio['Explained Variance Ratio (%)'].cumsum(\n",
        "    )\n",
        "\n",
        "    PercentageOfDataExplained = dfExplVarRatio['Explained Variance Ratio (%)'].sum(\n",
        "    )\n",
        "\n",
        "    print(\n",
        "        f\"* The {n_components} components explain {round(PercentageOfDataExplained,2)}% of the data \\n\")\n",
        "    plt.figure(figsize=(12, 5))\n",
        "    sns.lineplot(data=dfExplVarRatio,  marker=\"o\")\n",
        "    plt.xticks(rotation=90)\n",
        "    plt.yticks(np.arange(0, 110, 10))\n",
        "    plt.show()\n",
        "\n",
        "\n",
        "pca_components_analysis(df_pca=df_pca, n_components=n_components)\n"
      ]
    },
    {
      "cell_type": "code",
      "execution_count": null,
      "metadata": {},
      "outputs": [],
      "source": [
        "n_components = 6\n",
        "pca_components_analysis(df_pca=df_pca, n_components=n_components)"
      ]
    },
    {
      "cell_type": "markdown",
      "metadata": {},
      "source": [
        "### Rewrite ML Pipline for Modelling"
      ]
    },
    {
      "cell_type": "code",
      "execution_count": 43,
      "metadata": {},
      "outputs": [],
      "source": [
        "from sklearn.decomposition import PCA\n",
        "\n",
        "\n",
        "def PipelineOptimization(model):\n",
        "    pipeline_base = Pipeline([\n",
        "        ('categorical_imputer', CategoricalImputer(imputation_method='frequent',\n",
        "                                                    variables=['Teacher_Quality', 'Parental_Education_Level', 'Distance_from_Home'])),\n",
        "\n",
        "        (\"OrdinalCategoricalEncoder\", OrdinalEncoder(encoding_method='arbitrary',\n",
        "                                                     variables=['Parental_Involvement', 'Access_to_Resources', 'Extracurricular_Activities',\n",
        "                                                                'Motivation_Level', 'Internet_Access', 'Family_Income', 'Teacher_Quality',\n",
        "                                                                'School_Type', 'Peer_Influence', 'Learning_Disabilities', 'Parental_Education_Level',\n",
        "                                                                'Distance_from_Home', 'Gender'])),\n",
        "        \n",
        "        (\"YeoJohnson\", YeoJohnsonTransformer(variables=['Attendance', 'Tutoring_Sessions'])),\n",
        "\n",
        "        (\"feat_scaling\", StandardScaler()),\n",
        "\n",
        "        # PCA replace Feature Selection\n",
        "        (\"PCA\", PCA(n_components=6, random_state=0)),\n",
        "\n",
        "        (\"model\", model),\n",
        "\n",
        "    ])\n",
        "\n",
        "    return pipeline_base"
      ]
    },
    {
      "cell_type": "code",
      "execution_count": null,
      "metadata": {},
      "outputs": [],
      "source": [
        "print(\"* Train set:\", X_train.shape, y_train.shape, \"\\n* Test set:\",  X_test.shape, y_test.shape)"
      ]
    },
    {
      "cell_type": "code",
      "execution_count": null,
      "metadata": {},
      "outputs": [],
      "source": [
        "quick_search = HyperparameterOptimizationSearch(models=models_quick_search, params=params_quick_search)\n",
        "quick_search.fit(X_train, y_train, scoring='r2', n_jobs=-1, cv=5)"
      ]
    },
    {
      "cell_type": "code",
      "execution_count": null,
      "metadata": {},
      "outputs": [],
      "source": [
        "grid_search_summary, grid_search_pipelines = quick_search.score_summary(sort_by='mean_score')\n",
        "grid_search_summary"
      ]
    },
    {
      "cell_type": "markdown",
      "metadata": {},
      "source": [
        "### Quick Conclusion"
      ]
    },
    {
      "cell_type": "markdown",
      "metadata": {},
      "source": [
        "## Recreate Pipline and tagets to Classification"
      ]
    },
    {
      "cell_type": "markdown",
      "metadata": {},
      "source": []
    },
    {
      "cell_type": "code",
      "execution_count": 46,
      "metadata": {},
      "outputs": [],
      "source": [
        "def PipelineOptimization(model):\n",
        "    pipeline_base = Pipeline([\n",
        "        ('categorical_imputer', CategoricalImputer(imputation_method='frequent',\n",
        "                                                    variables=['Teacher_Quality', 'Parental_Education_Level', 'Distance_from_Home'])),\n",
        "\n",
        "        (\"Ordinal_Encoder\", OrdinalEncoder(encoding_method='arbitrary',\n",
        "                                           variables=['Parental_Involvement', 'Access_to_Resources', 'Extracurricular_Activities',\n",
        "                                                      'Motivation_Level', 'Internet_Access', 'Family_Income', 'Teacher_Quality',\n",
        "                                                      'School_Type', 'Peer_Influence', 'Learning_Disabilities', 'Parental_Education_Level',\n",
        "                                                      'Distance_from_Home', 'Gender'])),\n",
        "        \n",
        "        (\"YeoJohnson\", YeoJohnsonTransformer(variables=['Attendance', 'Tutoring_Sessions'])),\n",
        "\n",
        "        (\"feat_scaling\", StandardScaler()),\n",
        "\n",
        "        (\"feat_selection\",  SelectFromModel(model)),\n",
        "\n",
        "        (\"model\", model),\n",
        "\n",
        "    ])\n",
        "\n",
        "    return pipeline_base"
      ]
    },
    {
      "cell_type": "code",
      "execution_count": null,
      "metadata": {},
      "outputs": [],
      "source": [
        "import seaborn as sns\n",
        "import matplotlib.pyplot as plt\n",
        "pipeline_taget_cleaning = Pipeline([\n",
        "      ('efd', EqualFrequencyDiscretiser(q=5, variables=['Exam_Score'] ))\n",
        "])\n",
        "\n",
        "\n",
        "df_target_bins = pipeline_taget_cleaning.fit_transform(df)\n",
        "\n",
        "target_span = pipeline_taget_cleaning['efd'].binner_dict_\n",
        "\n",
        "df.head()\n",
        "\n",
        "sns.countplot(data=df_target_bins, x='Exam_Score')\n",
        "plt.show()\n",
        "\n",
        "\n",
        "X = df.drop(['Exam_Score'], axis=1) # Defining the features\n",
        "y = df['Exam_Score'] # Defining the the target for the prediction\n",
        "\n",
        "X_train, X_test, y_train, y_test = train_test_split(\n",
        "     X,\n",
        "     y,\n",
        "     test_size=0.2,\n",
        "     random_state=0\n",
        " )\n",
        "\n",
        "print(\"* Train set:\", X_train.shape, y_train.shape,\n",
        "       \"\\n* Test set:\",  X_test.shape, y_test.shape)"
      ]
    },
    {
      "cell_type": "code",
      "execution_count": 64,
      "metadata": {},
      "outputs": [],
      "source": [
        "# ML algorithms\n",
        "from sklearn.linear_model import LogisticRegression\n",
        "from sklearn.tree import DecisionTreeClassifier\n",
        "from sklearn.ensemble import RandomForestClassifier\n",
        "from sklearn.ensemble import GradientBoostingClassifier\n",
        "from sklearn.ensemble import ExtraTreesClassifier\n",
        "from sklearn.ensemble import AdaBoostClassifier\n",
        "from xgboost import XGBClassifier\n",
        "\n",
        "models_quick_search = {\n",
        "    \"LogisticRegression\": LogisticRegression(random_state=0, multi_class='auto', solver='lbfgs'),\n",
        "    # \"XGBClassifier\": XGBClassifier(random_state=0, use_label_encoder=False),\n",
        "    \"DecisionTreeClassifier\": DecisionTreeClassifier(random_state=0),\n",
        "    \"RandomForestClassifier\": RandomForestClassifier(random_state=0),\n",
        "    \"GradientBoostingClassifier\": GradientBoostingClassifier(random_state=0),\n",
        "    \"ExtraTreesClassifier\": ExtraTreesClassifier(random_state=0),\n",
        "    \"AdaBoostClassifier\": AdaBoostClassifier(random_state=0),\n",
        "}\n",
        "\n",
        "params_quick_search = {\n",
        "    \"LogisticRegression\": {},\n",
        "    # \"XGBClassifier\": {},\n",
        "    \"DecisionTreeClassifier\": {},\n",
        "    \"RandomForestClassifier\": {},\n",
        "    \"GradientBoostingClassifier\": {},\n",
        "    \"ExtraTreesClassifier\": {},\n",
        "    \"AdaBoostClassifier\": {},\n",
        "}"
      ]
    },
    {
      "cell_type": "code",
      "execution_count": null,
      "metadata": {},
      "outputs": [],
      "source": [
        "from sklearn.metrics import make_scorer, recall_score\n",
        "search = HyperparameterOptimizationSearch(models=models_quick_search, params=params_quick_search)\n",
        "search.fit(X_train, y_train,\n",
        "           scoring =  make_scorer(recall_score, pos_label=1),\n",
        "           n_jobs=-1, cv=5)"
      ]
    },
    {
      "cell_type": "code",
      "execution_count": null,
      "metadata": {},
      "outputs": [],
      "source": [
        "grid_search_summary, grid_search_pipelines = search.score_summary(sort_by='mean_score')\n",
        "grid_search_summary "
      ]
    },
    {
      "cell_type": "markdown",
      "metadata": {},
      "source": [
        "### Quick Conclusion\n",
        "Text"
      ]
    },
    {
      "cell_type": "markdown",
      "metadata": {},
      "source": [
        "# Optimize ML\n"
      ]
    },
    {
      "cell_type": "code",
      "execution_count": null,
      "metadata": {},
      "outputs": [],
      "source": [
        "best_model = grid_search_summary.iloc[1,0]\n",
        "best_model"
      ]
    },
    {
      "cell_type": "code",
      "execution_count": null,
      "metadata": {},
      "outputs": [],
      "source": [
        "grid_search_pipelines[best_model].best_params_"
      ]
    },
    {
      "cell_type": "code",
      "execution_count": null,
      "metadata": {},
      "outputs": [],
      "source": [
        "best_regressor_pipeline = grid_search_pipelines[best_model].best_estimator_\n",
        "best_regressor_pipeline"
      ]
    },
    {
      "cell_type": "code",
      "execution_count": 20,
      "metadata": {},
      "outputs": [],
      "source": [
        "from sklearn.metrics import r2_score, mean_squared_error, mean_absolute_error\n",
        "import numpy as np\n",
        "\n",
        "\n",
        "def regression_performance(X_train, y_train, X_test, y_test, pipeline):\n",
        "    print(\"Model Evaluation \\n\")\n",
        "    print(\"* Train Set\")\n",
        "    regression_evaluation(X_train, y_train, pipeline)\n",
        "    print(\"* Test Set\")\n",
        "    regression_evaluation(X_test, y_test, pipeline)\n",
        "\n",
        "\n",
        "def regression_evaluation(X, y, pipeline):\n",
        "    prediction = pipeline.predict(X)\n",
        "    print('R2 Score:', r2_score(y, prediction).round(3))\n",
        "    print('Mean Absolute Error:', mean_absolute_error(y, prediction).round(3))\n",
        "    print('Mean Squared Error:', mean_squared_error(y, prediction).round(3))\n",
        "    print('Root Mean Squared Error:', np.sqrt(\n",
        "        mean_squared_error(y, prediction)).round(3))\n",
        "    print(\"\\n\")\n",
        "\n",
        "\n",
        "def regression_evaluation_plots(X_train, y_train, X_test, y_test, pipeline, alpha_scatter=0.5):\n",
        "    pred_train = pipeline.predict(X_train)\n",
        "    pred_test = pipeline.predict(X_test)\n",
        "\n",
        "    fig, axes = plt.subplots(nrows=1, ncols=2, figsize=(12, 6))\n",
        "    sns.scatterplot(x=y_train, y=pred_train, alpha=alpha_scatter, ax=axes[0])\n",
        "    sns.lineplot(x=y_train, y=y_train, color='red', ax=axes[0])\n",
        "    axes[0].set_xlabel(\"Actual\")\n",
        "    axes[0].set_ylabel(\"Predictions\")\n",
        "    axes[0].set_title(\"Train Set\")\n",
        "\n",
        "    sns.scatterplot(x=y_test, y=pred_test, alpha=alpha_scatter, ax=axes[1])\n",
        "    sns.lineplot(x=y_test, y=y_test, color='red', ax=axes[1])\n",
        "    axes[1].set_xlabel(\"Actual\")\n",
        "    axes[1].set_ylabel(\"Predictions\")\n",
        "    axes[1].set_title(\"Test Set\")\n",
        "\n",
        "    plt.show()"
      ]
    },
    {
      "cell_type": "code",
      "execution_count": null,
      "metadata": {},
      "outputs": [],
      "source": [
        "regression_performance(X_train, y_train, X_test, y_test,best_regressor_pipeline)\n",
        "regression_evaluation_plots(X_train, y_train, X_test, y_test,\n",
        "                            best_regressor_pipeline)"
      ]
    },
    {
      "cell_type": "markdown",
      "metadata": {},
      "source": [
        "---"
      ]
    },
    {
      "cell_type": "markdown",
      "metadata": {
        "id": "ltNetd085qHf"
      },
      "source": [
        "# Push files to Repo"
      ]
    },
    {
      "cell_type": "markdown",
      "metadata": {},
      "source": [
        "* In case you don't need to push files to Repo, you may replace this section with \"Conclusions and Next Steps\" and state your conclusions and next steps."
      ]
    },
    {
      "cell_type": "code",
      "execution_count": null,
      "metadata": {
        "id": "aKlnIozA4eQO",
        "outputId": "fd09bc1f-adb1-4511-f6ce-492a6af570c0"
      },
      "outputs": [],
      "source": [
        "import os\n",
        "try:\n",
        "  # create here your folder\n",
        "  # os.makedirs(name='')\n",
        "except Exception as e:\n",
        "  print(e)\n"
      ]
    }
  ],
  "metadata": {
    "accelerator": "GPU",
    "colab": {
      "name": "Data Practitioner Jupyter Notebook.ipynb",
      "provenance": [],
      "toc_visible": true
    },
    "interpreter": {
      "hash": "8b8334dab9339717f727a1deaf837b322d7a41c20d15cc86be99a8e69ceec8ce"
    },
    "kernelspec": {
      "display_name": "Python 3.8.12 64-bit ('3.8.12': pyenv)",
      "name": "python3"
    },
    "language_info": {
      "codemirror_mode": {
        "name": "ipython",
        "version": 3
      },
      "file_extension": ".py",
      "mimetype": "text/x-python",
      "name": "python",
      "nbconvert_exporter": "python",
      "pygments_lexer": "ipython3",
      "version": "3.8.18"
    },
    "orig_nbformat": 2
  },
  "nbformat": 4,
  "nbformat_minor": 2
}
