{
  "cells": [
    {
      "cell_type": "markdown",
      "metadata": {
        "id": "0aStgWSO0E0E"
      },
      "source": [
        "# EDA Students performans factors"
      ]
    },
    {
      "cell_type": "markdown",
      "metadata": {
        "id": "1eLEkw5O0ECa"
      },
      "source": [
        "## Objectives\n",
        "\n",
        "Trying to understand the data and find correlation and trends the dataset.\n",
        "\n",
        "## Inputs\n",
        "\n",
        "* outputs/datasets/collection/StudentPerformance.csv\n",
        "\n",
        "## Conclusion\n",
        "\n",
        "Despite extensive efforts to understand the data and identify correlations or insignificant features, the dataset lacks sufficient predictive power to develop a reliable model. Upon examining the data, it is evident that most features follow a normal distribution concerning the exam scores.\n"
      ]
    },
    {
      "cell_type": "markdown",
      "metadata": {
        "id": "9uWZXH9LwoQg"
      },
      "source": [
        "---"
      ]
    },
    {
      "cell_type": "markdown",
      "metadata": {
        "id": "cqP-UeN-z3i2"
      },
      "source": [
        "# Change working directory"
      ]
    },
    {
      "cell_type": "markdown",
      "metadata": {},
      "source": [
        "* We are assuming you will store the notebooks in a subfolder, therefore when running the notebook in the editor, you will need to change the working directory"
      ]
    },
    {
      "cell_type": "markdown",
      "metadata": {
        "id": "aOGIGS-uz3i2"
      },
      "source": [
        "We need to change the working directory from its current folder to its parent folder\n",
        "* We access the current directory with os.getcwd()"
      ]
    },
    {
      "cell_type": "code",
      "execution_count": null,
      "metadata": {
        "id": "wZfF_j-Bz3i4",
        "outputId": "66943449-1436-4c3d-85c7-b85f9f78349b"
      },
      "outputs": [],
      "source": [
        "import os\n",
        "current_dir = os.getcwd()\n",
        "current_dir"
      ]
    },
    {
      "cell_type": "markdown",
      "metadata": {
        "id": "9MWW8E7lz3i7"
      },
      "source": [
        "We want to make the parent of the current directory the new current directory\n",
        "* os.path.dirname() gets the parent directory\n",
        "* os.chir() defines the new current directory"
      ]
    },
    {
      "cell_type": "code",
      "execution_count": null,
      "metadata": {
        "id": "TwHsQRWjz3i9",
        "outputId": "86849db3-cd2f-4cc5-ebb8-2d0caafa1a2c"
      },
      "outputs": [],
      "source": [
        "os.chdir(os.path.dirname(current_dir))\n",
        "print(\"You set a new current directory\")"
      ]
    },
    {
      "cell_type": "markdown",
      "metadata": {
        "id": "M_xPk_Ijz3i-"
      },
      "source": [
        "Confirm the new current directory"
      ]
    },
    {
      "cell_type": "code",
      "execution_count": null,
      "metadata": {
        "id": "vz3S-_kjz3jA",
        "outputId": "00b79ae4-75d0-4a96-d193-ac9ef9847ea2"
      },
      "outputs": [],
      "source": [
        "current_dir = os.getcwd()\n",
        "current_dir"
      ]
    },
    {
      "cell_type": "markdown",
      "metadata": {},
      "source": [
        "---------------"
      ]
    },
    {
      "cell_type": "markdown",
      "metadata": {
        "id": "-mavJ8DibrcQ"
      },
      "source": [
        "# Load data"
      ]
    },
    {
      "cell_type": "code",
      "execution_count": null,
      "metadata": {},
      "outputs": [],
      "source": [
        "import numpy as np\n",
        "import pandas as pd\n",
        "df = (pd.read_csv(\"outputs/datasets/collection/StudentPerformance.csv\")\n",
        "      )\n",
        "\n",
        "print(df.shape)\n",
        "df.head(3)"
      ]
    },
    {
      "cell_type": "markdown",
      "metadata": {
        "id": "ZY3l0-AxO93d"
      },
      "source": [
        "---"
      ]
    },
    {
      "cell_type": "markdown",
      "metadata": {
        "id": "uFQo3ycuO-v6"
      },
      "source": [
        "# Explore data with plots"
      ]
    },
    {
      "cell_type": "code",
      "execution_count": null,
      "metadata": {},
      "outputs": [],
      "source": [
        "import numpy as np\n",
        "import matplotlib.pyplot as plt\n",
        "import seaborn as sns\n",
        "\n",
        "\n",
        "sns.histplot(x='Motivation_Level', hue='Parental_Involvement', data=df)\n",
        "plt.title('Motivation Level by Parental Involvement')\n",
        "plt.show()\n",
        "\n",
        "sns.scatterplot(data=df, x=\"Exam_Score\", y=\"Attendance\", hue=\"Hours_Studied\")\n",
        "\n",
        "plt.show()\n",
        "sns.scatterplot(data=df, x='Exam_Score', y='Hours_Studied', hue=\"Attendance\")\n",
        "plt.show()\n",
        "sns.boxplot(\n",
        "    data=df, x=\"Exam_Score\", y=\"Gender\"\n",
        ")\n",
        "# hue=\"Physical_Activity\",\n",
        "plt.title('The effect on the Exam score with Motivation and Physical activity')\n",
        "plt.show()\n",
        "\n",
        "sns.histplot(data=df, x='Exam_Score', hue='Parental_Education_Level', \n",
        "             multiple=\"dodge\", shrink=.8)\n",
        "plt.show()\n",
        "\n",
        "sns.scatterplot(data=df, x=\"Exam_Score\", y=\"Attendance\", hue=\"School_Type\")\n",
        "plt.show()\n",
        "\n",
        "sns.histplot(data=df, x='Exam_Score', y=\"Attendance\", hue='Hours_Studied')\n",
        "plt.show()\n",
        "\n",
        "sns.catplot(\n",
        "    data=df, x=\"Exam_Score\", y=\"Hours_Studied\", hue=\"School_Type\",\n",
        "    kind=\"violin\", bw_adjust=.5, cut=0, split=True\n",
        ")\n",
        "plt.title('The effect on the Exam score with Motivation and Parental involment')\n",
        "plt.show()\n"
      ]
    },
    {
      "cell_type": "code",
      "execution_count": null,
      "metadata": {},
      "outputs": [],
      "source": [
        "import matplotlib.patheffects as path_effects\n",
        "def add_median_labels(ax: plt.Axes, fmt: str = \".1f\") -> None:\n",
        "    \"\"\"Add text labels to the median lines of a seaborn boxplot.\n",
        "\n",
        "    Args:\n",
        "        ax: plt.Axes, e.g. the return value of sns.boxplot()\n",
        "        fmt: format string for the median value\n",
        "    \"\"\"\n",
        "    lines = ax.get_lines()\n",
        "    boxes = [c for c in ax.get_children() if \"Patch\" in str(c)]\n",
        "    start = 4\n",
        "    if not boxes:  # seaborn v0.13 => fill=False => no patches => +1 line\n",
        "        boxes = [c for c in ax.get_lines() if len(c.get_xdata()) == 5]\n",
        "        start += 1\n",
        "    lines_per_box = len(lines) // len(boxes)\n",
        "    for median in lines[start::lines_per_box]:\n",
        "        x, y = (data.mean() for data in median.get_data())\n",
        "        # choose value depending on horizontal or vertical plot orientation\n",
        "        value = x if len(set(median.get_xdata())) == 1 else y\n",
        "        text = ax.text(x, y, f'{value:{fmt}}', ha='center', va='center',\n",
        "                       color='white')\n",
        "        # create median-colored border around white text for contrast\n",
        "        text.set_path_effects([\n",
        "            path_effects.Stroke(linewidth=1, foreground=median.get_color()),\n",
        "            path_effects.Normal(),\n",
        "        ])\n",
        "\n",
        "ax = sns.boxplot(data=df, x='Exam_Score', hue='Parental_Education_Level')\n",
        "add_median_labels(ax)\n",
        "plt.show()\n"
      ]
    },
    {
      "cell_type": "code",
      "execution_count": null,
      "metadata": {},
      "outputs": [],
      "source": [
        "ax = sns.boxplot(df, x=\"Exam_Score\", y=\"Access_to_Resources\")\n",
        "add_median_labels(ax)"
      ]
    },
    {
      "cell_type": "markdown",
      "metadata": {},
      "source": [
        "---"
      ]
    },
    {
      "cell_type": "markdown",
      "metadata": {},
      "source": [
        "## Conclusion\n",
        "\n",
        "Despite extensive efforts to understand the data and identify correlations or insignificant features, the dataset lacks sufficient predictive power to develop a reliable model. Upon examining the data, it is evident that most features follow a normal distribution concerning the exam scores."
      ]
    }
  ],
  "metadata": {
    "accelerator": "GPU",
    "colab": {
      "name": "Data Practitioner Jupyter Notebook.ipynb",
      "provenance": [],
      "toc_visible": true
    },
    "interpreter": {
      "hash": "8b8334dab9339717f727a1deaf837b322d7a41c20d15cc86be99a8e69ceec8ce"
    },
    "kernelspec": {
      "display_name": "Python 3.8.12 64-bit ('3.8.12': pyenv)",
      "name": "python3"
    },
    "language_info": {
      "codemirror_mode": {
        "name": "ipython",
        "version": 3
      },
      "file_extension": ".py",
      "mimetype": "text/x-python",
      "name": "python",
      "nbconvert_exporter": "python",
      "pygments_lexer": "ipython3",
      "version": "3.8.18"
    },
    "orig_nbformat": 2
  },
  "nbformat": 4,
  "nbformat_minor": 2
}
